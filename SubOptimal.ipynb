{
 "cells": [
  {
   "cell_type": "code",
   "execution_count": 1,
   "metadata": {
    "collapsed": true
   },
   "outputs": [],
   "source": [
    "#I don't know how the data will be structured, so I am going to format all item data as follows:\n",
    "\n",
    "#There should only be two inputs into the function, items and their traits, and then the size of knapsack.\n",
    "\n",
    "#Each item has four interesting pieces of info, a max and min size and value.\n",
    "\n",
    "#The list \"items\" that will appear often is going to be a list of item object, that I will write first. It will contain all the needed info\n",
    "\n",
    "#I am going to implement two algorithms in this document, one should be reasonably fast, and the other a nightmare but more accurate."
   ]
  },
  {
   "cell_type": "code",
   "execution_count": 2,
   "metadata": {
    "collapsed": false
   },
   "outputs": [],
   "source": [
    "type item\n",
    "    max_size::Real\n",
    "    min_size::Real\n",
    "    \n",
    "    max_value::Real\n",
    "    min_value::Real\n",
    "    \n",
    "    expected_value::Real\n",
    "    expected_size::Real\n",
    "end"
   ]
  },
  {
   "cell_type": "code",
   "execution_count": 3,
   "metadata": {
    "collapsed": true
   },
   "outputs": [],
   "source": [
    "type real_item\n",
    "    size::Real\n",
    "    value::Real\n",
    "end"
   ]
  },
  {
   "cell_type": "code",
   "execution_count": 4,
   "metadata": {
    "collapsed": false
   },
   "outputs": [
    {
     "data": {
      "text/plain": [
       "new_item (generic function with 1 method)"
      ]
     },
     "execution_count": 4,
     "metadata": {},
     "output_type": "execute_result"
    }
   ],
   "source": [
    "function new_item(min_size,max_size,min_value,max_value)\n",
    "    new_item = item(max_size,min_size,max_value,min_value,(max_value+min_value)/2,(max_size+min_size)/2)\n",
    "    return new_item\n",
    "end"
   ]
  },
  {
   "cell_type": "code",
   "execution_count": 5,
   "metadata": {
    "collapsed": false
   },
   "outputs": [
    {
     "data": {
      "text/plain": [
       "ponder_size (generic function with 1 method)"
      ]
     },
     "execution_count": 5,
     "metadata": {},
     "output_type": "execute_result"
    }
   ],
   "source": [
    "function ponder_size(items::Array,remaining_space)\n",
    "    #Ponder size is a function for getting the expected addition of an item to the knapsack\n",
    "    #If an item is guarenteed to fix, the expected value will simply be the expected value of the item\n",
    "    #However, if an item has a possibility of not fitting, we set the gain to the knapsack to 0\n",
    "    #For instance, an item A has size range of (1,6) and value range of (2, 6)\n",
    "    # ponder_size([A],6)\n",
    "    # returns: [4]\n",
    "    # or \n",
    "    # ponder_size([A],3)\n",
    "    # returns: [2]\n",
    "    # Since we can expect to gain 4 50% of the time, and gain 0 50% of the time.\n",
    "    #\n",
    "    # This function is what allows the entire algorithm to work.    \n",
    "    result = zeros(length(items))\n",
    "    if remaining_space == 0\n",
    "        return result\n",
    "    end\n",
    "    for item_num in 1:length(items)\n",
    "        sel_item = items[item_num]\n",
    "        if sel_item.min_size > remaining_space\n",
    "            result[item_num] = 0 \n",
    "        else\n",
    "            max_size_diff = maximum([sel_item.max_size - remaining_space 0])\n",
    "            if max_size_diff != 0\n",
    "                biggest_allowable_size = remaining_space\n",
    "            else\n",
    "                biggest_allowable_size = sel_item.max_size\n",
    "            end\n",
    "            expected_value = (sel_item.expected_value * (biggest_allowable_size - sel_item.min_size+1))/(sel_item.max_size - sel_item.min_size+1)    \n",
    "            result[item_num] = expected_value\n",
    "        end\n",
    "    end\n",
    "    return(result)\n",
    "end"
   ]
  },
  {
   "cell_type": "code",
   "execution_count": 6,
   "metadata": {
    "collapsed": true
   },
   "outputs": [],
   "source": [
    "#What are some terms we can score to train on?\n",
    "#Variance of size, variance of value, expected gain, and max size strike me as important, so lets start with those.\n"
   ]
  },
  {
   "cell_type": "code",
   "execution_count": 7,
   "metadata": {
    "collapsed": false
   },
   "outputs": [
    {
     "data": {
      "text/plain": [
       "order_rank (generic function with 1 method)"
      ]
     },
     "execution_count": 7,
     "metadata": {},
     "output_type": "execute_result"
    }
   ],
   "source": [
    "function order_rank(items::Array,lambdas::Array,remaining_space::Int64)\n",
    "    #This function is currently not being used; only keeping it just in case\n",
    "    results = zeros(length(items))\n",
    "    expected_values = ponder_size(items,remaining_space)\n",
    "    for item_num in 1:length(items)\n",
    "        sel_item = items[item_num]\n",
    "        size_var = ((sel_item.max_size - sel_item.min_size + 1)^2 - 1)/12\n",
    "        val_var = ((sel_item.max_value - sel_item.min_value + 1)^2 - 1)/12\n",
    "        expected_gain = expected_values[item_num] / ((sel_item.max_size - sel_item.min_size)/2)\n",
    "        max_size = sel_item.max_size\n",
    "        results[item_num] = lambdas[1] * size_var + lambdas[2] * val_var + lambdas[3]*expected_gain + lambdas[4] * max_size\n",
    "    end\n",
    "    return results\n",
    "end"
   ]
  },
  {
   "cell_type": "code",
   "execution_count": 8,
   "metadata": {
    "collapsed": false
   },
   "outputs": [
    {
     "data": {
      "text/plain": [
       "max_score (generic function with 1 method)"
      ]
     },
     "execution_count": 8,
     "metadata": {},
     "output_type": "execute_result"
    }
   ],
   "source": [
    "function max_score(possibilities::Array)\n",
    "    #Takes in a set of possible packing orders\n",
    "    #possibilites is a list of items that look like [[A,B],10,1]\n",
    "    #The first item is a list of items\n",
    "    #The second is the total score we expect by taking that path\n",
    "    #The last number is the remaining space by taking that path\n",
    "    #Returns the one with the best score\n",
    "    best = [[],0,0]\n",
    "    for i in possibilities\n",
    "        if i[2] > best[2]\n",
    "            best = i\n",
    "        end\n",
    "    end\n",
    "    return best\n",
    "end"
   ]
  },
  {
   "cell_type": "code",
   "execution_count": 9,
   "metadata": {
    "collapsed": false
   },
   "outputs": [
    {
     "data": {
      "text/plain": [
       "expected_knapsack (generic function with 1 method)"
      ]
     },
     "execution_count": 9,
     "metadata": {},
     "output_type": "execute_result"
    }
   ],
   "source": [
    "function expected_knapsack(items::Array, space)\n",
    "    #Items is a list of item objects that have 4 invariant properties; max size, min size, max value, min value\n",
    "    #space is obviously the amount of size the knapsack can hold\n",
    "    #Returns an ordered list with the objects we selected, and a number that was our final score.\n",
    "    #BECAUSE push!() IS THE BEST METHOD I COULD THINK OF, AND I USED DYNAMIC PROGRAMMING, THE LIST IS BACKWARDs\n",
    "    #please read that part. The first item that needs to be added is the LAST item in the final output list\n",
    "    #The first item in the list is the last item to be added. \n",
    "    if space <= 0\n",
    "        return [[],0,space]\n",
    "    end\n",
    "    expected_sizes = ponder_size(items, space)\n",
    "    possibilities = Vector(length(items))\n",
    "    found = false\n",
    "    for item_num in 1:length(items)\n",
    "        new_space = space - items[item_num].expected_size\n",
    "        possibilities[item_num] = expected_knapsack(items, new_space)\n",
    "        possibilities[item_num][2] += expected_sizes[item_num]\n",
    "        push!(possibilities[item_num][1], item_num)\n",
    "        found = true  \n",
    "    end\n",
    "    best_path = max_score(possibilities)\n",
    "    return best_path\n",
    "end    "
   ]
  },
  {
   "cell_type": "code",
   "execution_count": 10,
   "metadata": {
    "collapsed": false
   },
   "outputs": [
    {
     "data": {
      "text/plain": [
       "get_item (generic function with 1 method)"
      ]
     },
     "execution_count": 10,
     "metadata": {},
     "output_type": "execute_result"
    }
   ],
   "source": [
    "function get_item(item::item)\n",
    "    #Gets me a real item\n",
    "    value = rand(item.min_value:item.max_value)\n",
    "    size = rand(item.min_size:item.max_size)\n",
    "    return real_item(size,value)\n",
    "end"
   ]
  },
  {
   "cell_type": "code",
   "execution_count": 30,
   "metadata": {
    "collapsed": false
   },
   "outputs": [
    {
     "name": "stderr",
     "output_type": "stream",
     "text": [
      "WARNING: Method definition stochastic_knapsack(Array, Real) in module Main at In[28]:9"
     ]
    },
    {
     "data": {
      "text/plain": [
       "stochastic_knapsack (generic function with 4 methods)"
      ]
     },
     "execution_count": 30,
     "metadata": {},
     "output_type": "execute_result"
    },
    {
     "name": "stderr",
     "output_type": "stream",
     "text": [
      " overwritten at In[30]:9.\n",
      "WARNING: Method definition stochastic_knapsack(Array, Real, Array) in module Main at In[28]:9 overwritten at In[30]:9.\n",
      "WARNING: Method definition stochastic_knapsack(Array, Real, Array, Real) in module Main at In[28]:9 overwritten at In[30]:9.\n"
     ]
    }
   ],
   "source": [
    "function stochastic_knapsack(items::Array, space::Real, added_items::Array = [], value::Real = 0)\n",
    "    #Final algorithm\n",
    "    #Takes items same as before, and a space, and a current value in the pack.\n",
    "    #Should run in time nW^2, where W is the total initial space and n is the number of objects.\n",
    "    #computes the path with best expected value, and then actually takes the item\n",
    "    #Revalutes after that, and then takes comutes path with best expected value\n",
    "    #Goes until either expected gain is 0 or we over-fill the bag.\n",
    "    #return the value\n",
    "    best_path = expected_knapsack(items, space)\n",
    "    if best_path[2] <= 0\n",
    "        return [added_items,value]\n",
    "    end\n",
    "    next_item = best_path[1][length(best_path[1])]\n",
    "    actual_item::real_item = get_item(items[next_item])\n",
    "    new_space = space - actual_item.size\n",
    "    if new_space < 0\n",
    "        return [added_items,value]\n",
    "    end\n",
    "    value += actual_item.value\n",
    "    push!(added_items, next_item)\n",
    "    return stochastic_knapsack(items,new_space,added_items,value)\n",
    "end"
   ]
  },
  {
   "cell_type": "code",
   "execution_count": 32,
   "metadata": {
    "collapsed": false
   },
   "outputs": [
    {
     "data": {
      "text/plain": [
       "2-element Array{Any,1}:\n",
       "   Any[1,1]\n",
       " 10        "
      ]
     },
     "execution_count": 32,
     "metadata": {},
     "output_type": "execute_result"
    }
   ],
   "source": [
    "item_1 = new_item(2,4,5,5)\n",
    "item_2 = new_item(1,1,1,1)\n",
    "stochastic_knapsack([item_1,item_2],10)"
   ]
  },
  {
   "cell_type": "code",
   "execution_count": null,
   "metadata": {
    "collapsed": true
   },
   "outputs": [],
   "source": []
  }
 ],
 "metadata": {
  "anaconda-cloud": {},
  "kernelspec": {
   "display_name": "Julia 0.5.0",
   "language": "julia",
   "name": "julia-0.5"
  },
  "language_info": {
   "file_extension": ".jl",
   "mimetype": "application/julia",
   "name": "julia",
   "version": "0.5.0"
  }
 },
 "nbformat": 4,
 "nbformat_minor": 1
}
